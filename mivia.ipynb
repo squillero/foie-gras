{
 "cells": [
  {
   "cell_type": "markdown",
   "source": [
    "> **`(!)`** 2021 Written by Giovanni Squillero <[squillero@polito.it](squillero@polito.it)>  \r\n",
    "> This is free and unencumbered software released into the public domain."
   ],
   "metadata": {}
  },
  {
   "cell_type": "markdown",
   "source": [
    "ARG Database: [https://mivia.unisa.it/datasets/graph-database/arg-database/documentation/](https://mivia.unisa.it/datasets/graph-database/arg-database/documentation/)"
   ],
   "metadata": {}
  },
  {
   "cell_type": "code",
   "execution_count": 9,
   "source": [
    "import struct\r\n",
    "import logging\r\n",
    "\r\n",
    "logging.basicConfig(format='[%(asctime)s] %(levelname)s: %(message)s', datefmt='%H:%M:%S')\r\n",
    "logging.getLogger().setLevel(level=logging.INFO)\r\n",
    "\r\n",
    "import networkx as nx\r\n",
    "from matplotlib import pyplot as plt\r\n",
    "plt.rcParams[\"figure.figsize\"] = [21, 9]"
   ],
   "outputs": [],
   "metadata": {}
  },
  {
   "cell_type": "code",
   "execution_count": 13,
   "source": [
    "with open('graphs/si6_r01_m1000.B14', 'rb') as input:\r\n",
    "    raw_data = input.read()\r\n",
    "cooked_data = [struct.unpack('<h', raw_data[i:i+2])[0] for i in range(0, len(raw_data), 2)]"
   ],
   "outputs": [],
   "metadata": {}
  },
  {
   "cell_type": "code",
   "execution_count": 14,
   "source": [
    "graph = nx.DiGraph()\r\n",
    "\r\n",
    "num_nodes = cooked_data.pop(0)\r\n",
    "logging.info(f\"Graph has {num_nodes:,} nodes\")\r\n",
    "\r\n",
    "for node in range(num_nodes):\r\n",
    "    graph.add_node(node)\r\n",
    "\r\n",
    "for node in range(num_nodes):\r\n",
    "    num_edges = cooked_data.pop(0)\r\n",
    "    logging.debug(f\"Node {node} has {num_edges} edges\")\r\n",
    "    for edge in range(num_edges):\r\n",
    "        target = cooked_data.pop(0)\r\n",
    "        label = None    # or label = cooked_data.pop(0)\r\n",
    "        graph.add_edge(node, target, label=label)\r\n",
    "        logging.debug(f\"    {node} =[{label}]=> {target}\")\r\n",
    "assert not cooked_data"
   ],
   "outputs": [
    {
     "output_type": "stream",
     "name": "stderr",
     "text": [
      "[19:09:19] INFO: Graph has 1,000 nodes\n"
     ]
    }
   ],
   "metadata": {}
  },
  {
   "cell_type": "code",
   "execution_count": 15,
   "source": [
    "nx.draw(graph, node_size=20)"
   ],
   "outputs": [],
   "metadata": {}
  },
  {
   "cell_type": "code",
   "execution_count": null,
   "source": [],
   "outputs": [],
   "metadata": {}
  }
 ],
 "metadata": {
  "kernelspec": {
   "name": "python3",
   "display_name": "Python 3.9.7 64-bit ('networkx': conda)"
  },
  "language_info": {
   "codemirror_mode": {
    "name": "ipython",
    "version": 3
   },
   "file_extension": ".py",
   "mimetype": "text/x-python",
   "name": "python",
   "nbconvert_exporter": "python",
   "pygments_lexer": "ipython3",
   "version": "3.9.7"
  },
  "interpreter": {
   "hash": "6056020253921ee2996dcf52a73d5f0da963863bd98108bcdce59f970df5f55d"
  }
 },
 "nbformat": 4,
 "nbformat_minor": 5
}